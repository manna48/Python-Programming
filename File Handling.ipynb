{
 "cells": [
  {
   "cell_type": "markdown",
   "metadata": {},
   "source": [
    "## File Handling "
   ]
  },
  {
   "cell_type": "code",
   "execution_count": 2,
   "metadata": {},
   "outputs": [
    {
     "data": {
      "text/plain": [
       "'hello World\\nhello World\\n'"
      ]
     },
     "execution_count": 2,
     "metadata": {},
     "output_type": "execute_result"
    }
   ],
   "source": [
    "f = open(\"sample_file.txt\",'r')\n",
    "f.read()"
   ]
  },
  {
   "cell_type": "code",
   "execution_count": 3,
   "metadata": {},
   "outputs": [],
   "source": [
    "f = open(\"sample_file.txt\",'w')\n",
    "\n",
    "content = \"hello World\\n\"\n",
    "l = [content]*3\n",
    "\n",
    "f.writelines(l)\n",
    "f.close()"
   ]
  },
  {
   "cell_type": "markdown",
   "metadata": {},
   "source": [
    "## Reading From a File"
   ]
  },
  {
   "cell_type": "code",
   "execution_count": 4,
   "metadata": {},
   "outputs": [
    {
     "name": "stdout",
     "output_type": "stream",
     "text": [
      "['hello World\\n', 'hello World\\n', 'hello World\\n']\n",
      "<class 'list'>\n"
     ]
    }
   ],
   "source": [
    "f = open(\"sample_file.txt\",\"r\")\n",
    "l= f.readlines()\n",
    "print(l)\n",
    "print(type(l))\n",
    "f.close()"
   ]
  },
  {
   "cell_type": "markdown",
   "metadata": {},
   "source": [
    "### Reading using WITH OPEN"
   ]
  },
  {
   "cell_type": "code",
   "execution_count": 5,
   "metadata": {},
   "outputs": [
    {
     "name": "stdout",
     "output_type": "stream",
     "text": [
      "False\n",
      "hello World\n",
      "hello World\n",
      "hello World\n",
      "\n"
     ]
    }
   ],
   "source": [
    "with open(\"sample_file.txt\",\"r\") as f:\n",
    "    print(f.closed)\n",
    "    print(f.read())\n",
    "    # Automatically closes the file, this ensures that a cleanup is there."
   ]
  },
  {
   "cell_type": "code",
   "execution_count": 6,
   "metadata": {},
   "outputs": [
    {
     "name": "stdout",
     "output_type": "stream",
     "text": [
      " World\n",
      "hello World\n",
      "hello World\n",
      "\n"
     ]
    }
   ],
   "source": [
    "with open(\"sample_file.txt\",\"r\") as f:\n",
    "    f.seek(5)\n",
    "    print(f.read())"
   ]
  },
  {
   "cell_type": "markdown",
   "metadata": {},
   "source": [
    "### JSON File"
   ]
  },
  {
   "cell_type": "code",
   "execution_count": 7,
   "metadata": {},
   "outputs": [
    {
     "name": "stdout",
     "output_type": "stream",
     "text": [
      "<class 'dict'>\n",
      "{'name': 'A1', 'age': 30}\n"
     ]
    }
   ],
   "source": [
    "import json\n",
    "\n",
    "#Python Object \n",
    "\n",
    "book = {\n",
    "    \"name\":\"learning Python\",\n",
    "    \"page\":320,\n",
    "    \"authors\":[\n",
    "        {\n",
    "            \"name\":\"A1\",\n",
    "            \"age\":30\n",
    "        },\n",
    "        {\n",
    "            \"name\":\"A2\",\n",
    "            \"age\":40\n",
    "        }\n",
    "    ]\n",
    "}\n",
    "print(type(book))\n",
    "print(book['authors'][0])"
   ]
  },
  {
   "cell_type": "code",
   "execution_count": 8,
   "metadata": {},
   "outputs": [],
   "source": [
    "with open(\"myJsonFile.json\",'w') as f:\n",
    "    json.dump(book,f)"
   ]
  },
  {
   "cell_type": "code",
   "execution_count": 9,
   "metadata": {},
   "outputs": [
    {
     "name": "stdout",
     "output_type": "stream",
     "text": [
      "<class 'str'>\n"
     ]
    }
   ],
   "source": [
    "s = json.dumps(book) #Returns a string\n",
    "print(type(s))"
   ]
  },
  {
   "cell_type": "code",
   "execution_count": 10,
   "metadata": {},
   "outputs": [
    {
     "name": "stdout",
     "output_type": "stream",
     "text": [
      "{'name': 'learning Python', 'page': 320, 'authors': [{'name': 'A1', 'age': 30}, {'name': 'A2', 'age': 40}]}\n",
      "<class 'dict'>\n"
     ]
    }
   ],
   "source": [
    "obj = json.loads(s)\n",
    "print(obj)\n",
    "print(type(obj))"
   ]
  },
  {
   "cell_type": "code",
   "execution_count": 11,
   "metadata": {},
   "outputs": [
    {
     "name": "stdout",
     "output_type": "stream",
     "text": [
      "{'authors': [{'age': 30, 'name': 'A1'}, {'age': 40, 'name': 'A2'}],\n",
      " 'name': 'learning Python',\n",
      " 'page': 320}\n"
     ]
    }
   ],
   "source": [
    "import pprint\n",
    "\n",
    "with open(\"myJsonFile.json\",'r') as f:\n",
    "    data = json.load(f)\n",
    "    pprint.pprint(data)"
   ]
  },
  {
   "cell_type": "markdown",
   "metadata": {},
   "source": [
    "## Exception Handling in Python"
   ]
  },
  {
   "cell_type": "markdown",
   "metadata": {},
   "source": [
    "### Try Except"
   ]
  },
  {
   "cell_type": "code",
   "execution_count": 12,
   "metadata": {},
   "outputs": [
    {
     "name": "stdout",
     "output_type": "stream",
     "text": [
      "Enter your nameManjeet\n",
      "Try executed without any error\n",
      "Form Submitted Successfully\n",
      "It is always there\n"
     ]
    }
   ],
   "source": [
    "try:\n",
    "    a  = input(\"Enter your name\")\n",
    "    if(len(a)<3):\n",
    "        raise Exception\n",
    "    \n",
    "except FileNotFoundError as e:\n",
    "    print(\"File doesnt exist. Please reupload\")\n",
    "    print(e)\n",
    "    \n",
    "except NameError as e:\n",
    "    print(\"b is not defined\")\n",
    "    print(e)\n",
    "    \n",
    "except Exception as e:\n",
    "    print(\"Please enter a valid name\")\n",
    "    print(e)\n",
    "    \n",
    "else:\n",
    "    print(\"Try executed without any error\")\n",
    "    print(\"Form Submitted Successfully\")\n",
    "    \n",
    "finally:\n",
    "    print(\"It is always there\")"
   ]
  },
  {
   "cell_type": "code",
   "execution_count": null,
   "metadata": {},
   "outputs": [],
   "source": []
  }
 ],
 "metadata": {
  "kernelspec": {
   "display_name": "Python 3",
   "language": "python",
   "name": "python3"
  },
  "language_info": {
   "codemirror_mode": {
    "name": "ipython",
    "version": 3
   },
   "file_extension": ".py",
   "mimetype": "text/x-python",
   "name": "python",
   "nbconvert_exporter": "python",
   "pygments_lexer": "ipython3",
   "version": "3.7.0"
  }
 },
 "nbformat": 4,
 "nbformat_minor": 2
}
