{
 "cells": [
  {
   "cell_type": "markdown",
   "metadata": {},
   "source": [
    "# Python Basics\n",
    "- Hello World\n",
    "- Variables "
   ]
  },
  {
   "cell_type": "code",
   "execution_count": 1,
   "metadata": {},
   "outputs": [
    {
     "name": "stdout",
     "output_type": "stream",
     "text": [
      "Hello World\n"
     ]
    }
   ],
   "source": [
    "print(\"Hello World\")"
   ]
  },
  {
   "cell_type": "code",
   "execution_count": 2,
   "metadata": {},
   "outputs": [
    {
     "name": "stdout",
     "output_type": "stream",
     "text": [
      "10\n",
      "10.5\n"
     ]
    }
   ],
   "source": [
    "a = 10\n",
    "b = 10.5\n",
    "\n",
    "print(a)\n",
    "print(b)"
   ]
  },
  {
   "cell_type": "code",
   "execution_count": 3,
   "metadata": {},
   "outputs": [
    {
     "name": "stdout",
     "output_type": "stream",
     "text": [
      "<class 'int'>\n",
      "<class 'float'>\n"
     ]
    }
   ],
   "source": [
    "print(type(a))\n",
    "print(type(b))"
   ]
  },
  {
   "cell_type": "code",
   "execution_count": 4,
   "metadata": {},
   "outputs": [
    {
     "name": "stdout",
     "output_type": "stream",
     "text": [
      "<class 'str'>\n"
     ]
    }
   ],
   "source": [
    "c = \"hello_python\"\n",
    "print(type(c))"
   ]
  },
  {
   "cell_type": "code",
   "execution_count": 5,
   "metadata": {},
   "outputs": [
    {
     "name": "stdout",
     "output_type": "stream",
     "text": [
      "(5+3j)\n",
      "<class 'complex'>\n"
     ]
    }
   ],
   "source": [
    "d = 5 + 3j\n",
    "print(d)\n",
    "print(type(d))"
   ]
  },
  {
   "cell_type": "code",
   "execution_count": 6,
   "metadata": {},
   "outputs": [],
   "source": [
    "a = 100.5"
   ]
  },
  {
   "cell_type": "code",
   "execution_count": 7,
   "metadata": {},
   "outputs": [
    {
     "name": "stdout",
     "output_type": "stream",
     "text": [
      "100.5\n",
      "<class 'float'>\n"
     ]
    }
   ],
   "source": [
    "print(a)\n",
    "print(type(a))"
   ]
  },
  {
   "cell_type": "markdown",
   "metadata": {},
   "source": [
    "# Working with Input"
   ]
  },
  {
   "cell_type": "code",
   "execution_count": 9,
   "metadata": {},
   "outputs": [
    {
     "name": "stdout",
     "output_type": "stream",
     "text": [
      "Enter the name of your organisationGTBIT\n",
      "Hello GTBIT\n"
     ]
    }
   ],
   "source": [
    "name = input(\"Enter the name of your organisation\")\n",
    "print(\"Hello\",end=' ')\n",
    "print(name)"
   ]
  },
  {
   "cell_type": "markdown",
   "metadata": {},
   "source": [
    "# Reading Numbers | Typecasting"
   ]
  },
  {
   "cell_type": "code",
   "execution_count": 10,
   "metadata": {},
   "outputs": [
    {
     "name": "stdout",
     "output_type": "stream",
     "text": [
      "Enter a Number24\n",
      "24.0\n",
      "576.0\n",
      "<class 'float'>\n",
      "The square of the number is 576.0\n"
     ]
    }
   ],
   "source": [
    "a = float(input(\"Enter a Number\"))\n",
    "print(a)\n",
    "print(a*a)\n",
    "\n",
    "print(type(a))\n",
    "print(\"The square of the number is \" + str(a*a))"
   ]
  },
  {
   "cell_type": "markdown",
   "metadata": {},
   "source": [
    "# More about the Print Function\n",
    "- format\n",
    "- end and sep"
   ]
  },
  {
   "cell_type": "code",
   "execution_count": 11,
   "metadata": {},
   "outputs": [
    {
     "name": "stdout",
     "output_type": "stream",
     "text": [
      "Hello+World+I+Love+Python\n"
     ]
    }
   ],
   "source": [
    "print(\"Hello\",\"World\",\"I\",\"Love\",\"Python\",sep=\"+\")"
   ]
  },
  {
   "cell_type": "code",
   "execution_count": 12,
   "metadata": {},
   "outputs": [
    {
     "name": "stdout",
     "output_type": "stream",
     "text": [
      "10,20\n"
     ]
    }
   ],
   "source": [
    "a = 10\n",
    "b = 20\n",
    "print(a,end=',')\n",
    "print(b)"
   ]
  },
  {
   "cell_type": "code",
   "execution_count": 13,
   "metadata": {},
   "outputs": [],
   "source": [
    "a = \"Indians\"\n",
    "b = \"Mangoes\"\n",
    "\n",
    "c = \"Russians\"\n",
    "d = \"Pizza\""
   ]
  },
  {
   "cell_type": "code",
   "execution_count": 14,
   "metadata": {},
   "outputs": [
    {
     "name": "stdout",
     "output_type": "stream",
     "text": [
      "Russians love Pizza\n"
     ]
    }
   ],
   "source": [
    "print(\"{0} love {1}\".format(c,d))"
   ]
  },
  {
   "cell_type": "code",
   "execution_count": 15,
   "metadata": {},
   "outputs": [
    {
     "name": "stdout",
     "output_type": "stream",
     "text": [
      "You entered 10 and 20 and 20\n"
     ]
    }
   ],
   "source": [
    "a = 10\n",
    "b = 20\n",
    "\n",
    "print(\"You entered %d and %d and %d\"%(a,b,b))"
   ]
  },
  {
   "cell_type": "markdown",
   "metadata": {},
   "source": [
    "# Variables,Datatypes and Operators\n",
    "A type of identifier.\n",
    "\n",
    "Rules for naming identifiers:\n",
    "\n",
    "The first character of the identifier must be a letter of the alphabet (uppercase ASCII or lowercase ASCII or Unicode character) or an underscore (_).\n",
    "\n",
    "The rest of the identifier name can consist of letters (uppercase ASCII or lowercase ASCII or Unicode character), underscores (_) or digits (0-9).\n",
    "\n",
    "Identifier names are case-sensitive. For example, myname and myName are not the same. Note the lowercase n in the former and the uppercase N in the latter.\n",
    "\n",
    "Examples of valid identifier names are i, name_2_3.\n",
    "\n",
    "Examples of invalid identifier names are 2things, this is spaced out, my-name and >a1b2_c3.\n",
    "\n",
    "### Airthmetic Operators (+ , - , * , ** , / , // , %)"
   ]
  },
  {
   "cell_type": "code",
   "execution_count": 16,
   "metadata": {},
   "outputs": [
    {
     "name": "stdout",
     "output_type": "stream",
     "text": [
      "31\n",
      "-11\n",
      "210\n",
      "0.4762\n",
      "0\n",
      "1000000000000000000000\n",
      "1\n"
     ]
    }
   ],
   "source": [
    "a = 10\n",
    "b = 21\n",
    "\n",
    "print(a+b)\n",
    "print(a-b)\n",
    "print(a*b)\n",
    "print(\"%0.4f\"%(a/b))\n",
    "print(a//b)\n",
    "#Exponent/Power Function\n",
    "print(a**b)\n",
    "print(b%a)"
   ]
  },
  {
   "cell_type": "markdown",
   "metadata": {},
   "source": [
    "# Multiple Variable Assignment"
   ]
  },
  {
   "cell_type": "code",
   "execution_count": 17,
   "metadata": {},
   "outputs": [],
   "source": [
    "a,b,c = 10,20,30.34"
   ]
  },
  {
   "cell_type": "code",
   "execution_count": 18,
   "metadata": {},
   "outputs": [
    {
     "name": "stdout",
     "output_type": "stream",
     "text": [
      "10 20 30.34\n"
     ]
    }
   ],
   "source": [
    "# This functions print the variables\n",
    "print(a,b,c)"
   ]
  },
  {
   "cell_type": "markdown",
   "metadata": {},
   "source": [
    "# Whitespaces and Indendation\n",
    "Whitespace is important in Python.\n",
    "\n",
    "Actually, whitespace at the beginning of the line is important. This is called indentation.\n",
    "\n",
    "Leading whitespace (spaces and tabs) at the beginning of the logical line is used to determine the indentation level of the logical line, which in turn is used to determine the grouping of statements.\n",
    "\n",
    "This means that statements which go together must have the same indentation. Each such set of statements is called a block\n",
    "\n",
    "### Don't mix tabs and Spaces\n",
    "\n",
    "### Comments are Important for readability of your code"
   ]
  },
  {
   "cell_type": "code",
   "execution_count": 19,
   "metadata": {},
   "outputs": [
    {
     "name": "stdout",
     "output_type": "stream",
     "text": [
      "This is \n",
      "a multiline string \n"
     ]
    }
   ],
   "source": [
    "# This is a single comment !\n",
    "\n",
    "\"\"\"This is a \n",
    "multiline \n",
    "comment \"\"\"\n",
    "\n",
    "myString = \"\"\"This is \n",
    "a multiline string \"\"\"\n",
    "\n",
    "print(myString)"
   ]
  },
  {
   "cell_type": "markdown",
   "metadata": {},
   "source": [
    "## Operators - Arithmetic, Comparsion, Compound Assignment, Logical Operators"
   ]
  },
  {
   "cell_type": "code",
   "execution_count": 20,
   "metadata": {},
   "outputs": [
    {
     "name": "stdout",
     "output_type": "stream",
     "text": [
      "True\n"
     ]
    }
   ],
   "source": [
    "raining = True\n",
    "temperature = 30\n",
    "\n",
    "\n",
    "outing = raining and temperature <= 30\n",
    "print(outing)"
   ]
  },
  {
   "cell_type": "markdown",
   "metadata": {},
   "source": [
    "## If Else Blocks"
   ]
  },
  {
   "cell_type": "code",
   "execution_count": 21,
   "metadata": {},
   "outputs": [
    {
     "name": "stdout",
     "output_type": "stream",
     "text": [
      "cool\n",
      "Lets go for shopping\n"
     ]
    }
   ],
   "source": [
    "weather  = input()\n",
    "\n",
    "if weather==\"Rainy\":\n",
    "    print(\"Don't go outside\")\n",
    "    print(\"It is raining heavilly\")\n",
    "    \n",
    "elif weather==\"Cool\":\n",
    "    print(\"Lets play Cricket\")\n",
    "\n",
    "else:\n",
    "    print(\"Lets go for shopping\")"
   ]
  },
  {
   "cell_type": "markdown",
   "metadata": {},
   "source": [
    "## Loops in Python"
   ]
  },
  {
   "cell_type": "code",
   "execution_count": 22,
   "metadata": {},
   "outputs": [
    {
     "name": "stdout",
     "output_type": "stream",
     "text": [
      "Step 1\n",
      "Step 2\n",
      "Step 3\n",
      "Step 4\n",
      "Step 5\n",
      "Step 6\n",
      "Step 7\n",
      "Step 8\n",
      "Step 9\n",
      "Step 10\n",
      "Loop Finished\n"
     ]
    }
   ],
   "source": [
    "n = 10\n",
    "i = 1\n",
    "\n",
    "while i<=n:\n",
    "    print(\"Step %d\"%i)\n",
    "    i = i + 1\n",
    "\n",
    "print(\"Loop Finished\")"
   ]
  },
  {
   "cell_type": "code",
   "execution_count": 23,
   "metadata": {},
   "outputs": [
    {
     "name": "stdout",
     "output_type": "stream",
     "text": [
      "1,3,5,7,9,"
     ]
    }
   ],
   "source": [
    "for i in range(1,10,2):\n",
    "    print(i,end=\",\")"
   ]
  },
  {
   "cell_type": "code",
   "execution_count": 24,
   "metadata": {},
   "outputs": [
    {
     "name": "stdout",
     "output_type": "stream",
     "text": [
      "3628800\n"
     ]
    }
   ],
   "source": [
    "no = 10\n",
    "ans = 1\n",
    "\n",
    "for i in range(1,11):\n",
    "    ans *= i\n",
    "    \n",
    "print(ans)"
   ]
  },
  {
   "cell_type": "markdown",
   "metadata": {},
   "source": [
    "## Loops here"
   ]
  },
  {
   "cell_type": "code",
   "execution_count": 25,
   "metadata": {},
   "outputs": [
    {
     "name": "stdout",
     "output_type": "stream",
     "text": [
      "10,8,6,4,2,"
     ]
    }
   ],
   "source": [
    "for i in range(10,1,-2):\n",
    "    print(i,end=',')"
   ]
  },
  {
   "cell_type": "code",
   "execution_count": 26,
   "metadata": {},
   "outputs": [
    {
     "name": "stdout",
     "output_type": "stream",
     "text": [
      "5 5 5 5 5 \n",
      "5 4 4 4 5 \n",
      "5 4 3 4 5 \n",
      "5 4 4 4 5 \n",
      "5 5 5 5 5 \n"
     ]
    }
   ],
   "source": [
    "# 5 X 5 Matrix\n",
    "n = 5\n",
    "for x in range(n):\n",
    "    for y in range(n):\n",
    "        print(max(x+1,y+1,n-x,n-y),end=\" \")\n",
    "    print()"
   ]
  },
  {
   "cell_type": "markdown",
   "metadata": {},
   "source": [
    "# Break Continue and Pass Statements"
   ]
  },
  {
   "cell_type": "code",
   "execution_count": 27,
   "metadata": {},
   "outputs": [
    {
     "name": "stdout",
     "output_type": "stream",
     "text": [
      "1\n",
      "2\n",
      "3\n",
      "4\n",
      "6\n",
      "7\n",
      "8\n",
      "9\n",
      "Loop ends\n"
     ]
    }
   ],
   "source": [
    "for i in range(1,10):\n",
    "    if i==5:\n",
    "        continue\n",
    "    print(i)\n",
    "\n",
    "print(\"Loop ends\")"
   ]
  },
  {
   "cell_type": "markdown",
   "metadata": {},
   "source": [
    "# FUNCTIONS"
   ]
  },
  {
   "cell_type": "code",
   "execution_count": 28,
   "metadata": {},
   "outputs": [
    {
     "name": "stdout",
     "output_type": "stream",
     "text": [
      "Hello Factorial\n"
     ]
    }
   ],
   "source": [
    "def helloFact():\n",
    "    print(\"Hello Factorial\")\n",
    "    \n",
    "helloFact()"
   ]
  },
  {
   "cell_type": "code",
   "execution_count": 29,
   "metadata": {},
   "outputs": [
    {
     "name": "stdout",
     "output_type": "stream",
     "text": [
      "120\n"
     ]
    }
   ],
   "source": [
    "def factorial(n):\n",
    "    ans = 1\n",
    "    for i in range(1,n+1):\n",
    "        ans *= i\n",
    "    return ans\n",
    "\n",
    "print(factorial(5))"
   ]
  },
  {
   "cell_type": "code",
   "execution_count": 30,
   "metadata": {},
   "outputs": [
    {
     "name": "stdout",
     "output_type": "stream",
     "text": [
      "1,2,3,5,7,11,13,17,19,23,29,31,37,41,43,47,53,59,61,67,71,73,79,83,89,97,"
     ]
    }
   ],
   "source": [
    "def isPrime(n):\n",
    "    \n",
    "    for i in range(2,n):\n",
    "        if(n%i==0):\n",
    "            return False\n",
    "        \n",
    "    return True\n",
    "\n",
    "\n",
    "def printPrime(V):\n",
    "    \n",
    "    for i in range(1,V+1):\n",
    "        if(isPrime(i)):\n",
    "            print(i,end=',')\n",
    "            \n",
    "            \n",
    "printPrime(100)"
   ]
  },
  {
   "cell_type": "markdown",
   "metadata": {},
   "source": [
    "## Default Argument Values and Local Global Variables"
   ]
  },
  {
   "cell_type": "code",
   "execution_count": 31,
   "metadata": {},
   "outputs": [
    {
     "name": "stdout",
     "output_type": "stream",
     "text": [
      "I Love JavaScript\n",
      "I Love Python\n",
      "C++\n"
     ]
    }
   ],
   "source": [
    "lang = \"C++\"\n",
    "def say(x=\"Python\"):\n",
    "    print(\"I Love \" +x)\n",
    "    \n",
    "say(\"JavaScript\")\n",
    "say()\n",
    "print(lang)"
   ]
  },
  {
   "cell_type": "markdown",
   "metadata": {},
   "source": [
    "## Recursive Function"
   ]
  },
  {
   "cell_type": "code",
   "execution_count": 32,
   "metadata": {},
   "outputs": [
    {
     "name": "stdout",
     "output_type": "stream",
     "text": [
      "720\n"
     ]
    }
   ],
   "source": [
    "def fact(n):\n",
    "    #Base Case\n",
    "    if(n==0):\n",
    "        return 1\n",
    "    #Rec Case\n",
    "    return n*fact(n-1)\n",
    "\n",
    "print(fact(6))"
   ]
  },
  {
   "cell_type": "markdown",
   "metadata": {},
   "source": [
    "# Keywords Arguments"
   ]
  },
  {
   "cell_type": "code",
   "execution_count": 33,
   "metadata": {},
   "outputs": [
    {
     "name": "stdout",
     "output_type": "stream",
     "text": [
      "I scored 10 in Python\n",
      "1010\n"
     ]
    }
   ],
   "source": [
    "def myFunc(score,lang,rollNo):\n",
    "    print(\"I scored %d in %s\"%(score,lang))\n",
    "    print(rollNo)\n",
    "    \n",
    "    \n",
    "myFunc(rollNo=1010,lang=\"Python\",score=10)"
   ]
  },
  {
   "cell_type": "code",
   "execution_count": 34,
   "metadata": {},
   "outputs": [
    {
     "name": "stdout",
     "output_type": "stream",
     "text": [
      "1\n",
      "2\n",
      "(3, 4, 10, 14)\n",
      "<class 'tuple'>\n",
      "{'shake': 'OreoShake', 'drink': 'lemonade', 'fruit': 'Mango'}\n",
      "<class 'dict'>\n",
      "shake OreoShake\n",
      "drink lemonade\n",
      "fruit Mango\n"
     ]
    }
   ],
   "source": [
    "def fun(a,b,*x,**y):\n",
    "    print(a)\n",
    "    print(b)\n",
    "    print(x)\n",
    "    print(type(x))\n",
    "    print(y)\n",
    "    print(type(y))\n",
    "    \n",
    "    for k in y:\n",
    "        print(k,y[k])\n",
    "    \n",
    "    \n",
    "fun(1,2,3,4,10,14,shake=\"OreoShake\",drink=\"lemonade\",fruit=\"Mango\")"
   ]
  }
 ],
 "metadata": {
  "kernelspec": {
   "display_name": "Python 3",
   "language": "python",
   "name": "python3"
  },
  "language_info": {
   "codemirror_mode": {
    "name": "ipython",
    "version": 3
   },
   "file_extension": ".py",
   "mimetype": "text/x-python",
   "name": "python",
   "nbconvert_exporter": "python",
   "pygments_lexer": "ipython3",
   "version": "3.7.0"
  }
 },
 "nbformat": 4,
 "nbformat_minor": 2
}
